{
 "cells": [
  {
   "cell_type": "code",
   "execution_count": 432,
   "id": "28fa154d",
   "metadata": {},
   "outputs": [],
   "source": [
    "import numpy as np\n",
    "from numpy.typing import NDArray\n",
    "from typing import List, Tuple\n",
    "import matplotlib.pyplot as plt\n",
    "import pandas as pd\n",
    "import yaml\n",
    "import torch\n",
    "from torch.optim import Optimizer\n",
    "from torch import Tensor"
   ]
  },
  {
   "cell_type": "code",
   "execution_count": 433,
   "id": "cb1f98d4",
   "metadata": {},
   "outputs": [],
   "source": [
    "with open('../dirs.yaml', 'r') as file:\n",
    "    dirs = yaml.safe_load(file)['homework-1']\n",
    "    X = pd.read_csv(dirs['train']['x'])\n",
    "    y = pd.read_csv(dirs['train']['y'])\n",
    "    \n",
    "df = pd.merge(X, y, on='Unnamed: 0').drop(columns=['Unnamed: 0'])"
   ]
  },
  {
   "cell_type": "markdown",
   "id": "e159689e",
   "metadata": {},
   "source": [
    "# Задание 1"
   ]
  },
  {
   "cell_type": "markdown",
   "id": "18abe775",
   "metadata": {},
   "source": [
    "$$\n",
    "\\hat{y} = \\sigma(x^Tw + b) \\\\\n",
    "L = -\\frac{1}{N}\\sum\\limits_{i}(y_ilog(\\hat{y}_i)+(1-y_i)log(1-\\hat{y}_i)) \\\\\n",
    "\\frac{\\partial L}{\\partial w} = -\\frac{1}{N}\\sum\\limits_{i}\\frac{\\partial L}{\\partial \\hat{y}_i}\\frac{\\partial \\hat{y}_i}{\\partial z_i}\\frac{\\partial z_i}{\\partial w}=-\\frac{1}{N}\\sum\\limits_{i}(\\frac{y_i}{\\hat{y}_i} - \\frac{ 1- y_i}{1 - \\hat{y}_i})(\\hat{y_i}(1-\\hat{y}_i))x_i^T = \\frac{1}{N}X^T(\\hat{y}-y) \\\\ \n",
    "\\frac{\\partial L}{\\partial b} = -\\frac{1}{N}\\sum\\limits_{i}\\frac{\\partial L}{\\partial \\hat{y}_i}\\frac{\\partial \\hat{y}_i}{\\partial z_i}\\frac{\\partial z_i}{\\partial b} = \\frac{1}{N}(\\hat{y}-y)\n",
    "$$"
   ]
  },
  {
   "cell_type": "code",
   "execution_count": 434,
   "id": "1198cb64",
   "metadata": {},
   "outputs": [],
   "source": [
    "def sigmoid(x: NDArray) -> NDArray:\n",
    "    return 1 / (1 + np.exp(-x))\n",
    "\n",
    "def sgd(X: NDArray,\n",
    "        y: NDArray,\n",
    "        weights: NDArray,\n",
    "        bias: float,\n",
    "        lr: float,\n",
    "        batch_size: int) -> Tuple[NDArray, float, float]:\n",
    "    \n",
    "    N = X.shape[0]\n",
    "    indices = np.arange(N)\n",
    "    np.random.shuffle(indices)\n",
    "    loss = 0.0\n",
    "    eps = 1e-5\n",
    "    for start_idx in range(0, N, batch_size):\n",
    "        idxs = indices[start_idx: start_idx + batch_size]\n",
    "        X_batch = X[idxs]\n",
    "        y_batch = y[idxs]\n",
    "        y_pred = sigmoid(X_batch @ weights + bias)\n",
    "        loss += -np.sum(y_batch * np.log(y_pred + eps) + (1 - y_batch) * np.log(1 - y_pred + eps))\n",
    "        dy = (y_pred - y_batch) / batch_size\n",
    "        bias_grad = np.sum(dy)\n",
    "        weights_grad = X_batch.T @ dy\n",
    "        weights -= lr * weights_grad\n",
    "        bias -= lr * bias_grad\n",
    "        \n",
    "    loss /= (N / batch_size)\n",
    "    \n",
    "    return weights, bias, loss\n",
    "        \n",
    "        \n",
    "def train_neuron(X: NDArray,\n",
    "                 y: NDArray,\n",
    "                 weights: NDArray,\n",
    "                 bias: float,\n",
    "                 lr: float = 0.1,\n",
    "                 batch_size: int = 8,\n",
    "                 epochs: int = 100\n",
    "                 ) -> Tuple[NDArray, float, List]:\n",
    "    \n",
    "    N = X.shape[0]\n",
    "    losses = []\n",
    "    eps = 1e-5\n",
    "    for epoch in range(epochs):\n",
    "        weights, bias, loss = sgd(X, y, weights, bias, lr, batch_size)\n",
    "        losses.append(np.round(loss, 4))\n",
    "        \n",
    "    return weights, bias, losses"
   ]
  },
  {
   "cell_type": "code",
   "execution_count": 435,
   "id": "379e261f",
   "metadata": {},
   "outputs": [
    {
     "name": "stdout",
     "output_type": "stream",
     "text": [
      "weights: [-0.00149024  0.00836707 -0.00315593 -0.00545393 -0.00252606 -0.00553515\n",
      " -0.00421633 -0.00480355 -0.00482879 -0.00437584 -0.00383759 -0.00340904\n",
      " -0.00449706 -0.00643701 -0.04142863  0.01113849  0.11444474 -0.011956\n",
      "  0.07077423  0.0165318   0.020293    0.01610095  0.00506713  0.0319446\n",
      " -0.01070055 -0.08423343  0.05691734 -0.04365838 -0.02397545 -0.01498472\n",
      " -0.00392014  0.00024417 -0.00368134 -0.00139248 -0.00188694 -0.00328494\n",
      "  0.03319567  0.13933881 -0.01221258  0.0295426   0.00259869 -0.00874585\n",
      " -0.00157437 -0.01175798 -0.00495749 -0.00584566  0.03473697 -0.03220672\n",
      "  0.02244048 -0.01227926 -0.01665284 -0.00558413 -0.00015201 -0.01979497\n",
      "  0.00415697 -0.00648646  0.0327158   0.00655439  0.03602941 -0.02221223\n",
      " -0.00790167  0.00421631 -0.00588585  0.00575939  0.02458385 -0.0215352\n",
      "  0.00527648  0.00740055 -0.01053741 -0.00426308 -0.0188516  -0.01708424\n",
      "  0.01329728 -0.01092216 -0.00754029  0.00063643  0.01333919 -0.01565951\n",
      " -0.0092462   0.00016918 -0.00400606  0.01248835 -0.00878834  0.00540687\n",
      " -0.00059637 -0.00768962 -0.01730823 -0.00350087 -0.01568647 -0.00793127]\n",
      "bias: 0.014961271256468038\n"
     ]
    },
    {
     "data": {
      "image/png": "[encoded data removed]",
      "text/plain": [
       "<Figure size 640x480 with 1 Axes>"
      ]
     },
     "metadata": {},
     "output_type": "display_data"
    }
   ],
   "source": [
    "df_bin = df[df['year'].isin([1980, 1981])]\n",
    "X = df_bin.drop(columns=['year']).to_numpy()\n",
    "y = df_bin['year'].to_numpy() - 1980\n",
    "X = (X - X.mean()) / X.std()\n",
    "weights = np.zeros((X.shape[1],))\n",
    "bias = 0.0\n",
    "\n",
    "weights, bias, losses = train_neuron(X, y, weights, bias, lr=1e-3, epochs=100)\n",
    "plt.xlabel('epoch')\n",
    "plt.ylabel('loss')\n",
    "plt.grid(True)\n",
    "plt.plot(losses)\n",
    "print(f\"weights: {weights}\\nbias: {bias}\")"
   ]
  },
  {
   "cell_type": "markdown",
   "id": "2864e7e3",
   "metadata": {},
   "source": [
    "# Задание 2"
   ]
  },
  {
   "cell_type": "code",
   "execution_count": 436,
   "id": "8b19da1d",
   "metadata": {},
   "outputs": [],
   "source": [
    "class Stack:\n",
    "    def __init__(self):\n",
    "        self.data = [None]\n",
    "        self.size = 0\n",
    "        self.capacity = 1\n",
    "        \n",
    "    def empty(self):\n",
    "        return self.size == 0\n",
    "    \n",
    "    def put(self, item):\n",
    "        if self.size == self.capacity:\n",
    "            self.data += [None] * self.capacity\n",
    "            self.capacity *= 2\n",
    "        self.data[self.size] = item\n",
    "        self.size += 1\n",
    "        \n",
    "    def get(self):\n",
    "        if self.empty():\n",
    "            return None\n",
    "        self.size -= 1\n",
    "        item = self.data[self.size]\n",
    "        self.data[self.size] = None\n",
    "        return item\n",
    "    def __repr__(self):\n",
    "        return f\"{self.data}\""
   ]
  },
  {
   "cell_type": "code",
   "execution_count": 437,
   "id": "5d3084e8",
   "metadata": {},
   "outputs": [],
   "source": [
    "class Scalar:\n",
    "    def __init__(self, data: float, _children=(), _op='input'):\n",
    "        self.data = data\n",
    "        self.grad = 0.0\n",
    "        self._backward = lambda: None\n",
    "        self._prev = set(_children)\n",
    "        self._op = _op\n",
    "\n",
    "    def __repr__(self):\n",
    "        return f\"Scalar(data={self.data}, grad={self.grad})\"\n",
    "\n",
    "    def __add__(self, other: \"Scalar\") -> \"Scalar\":\n",
    "        other = other if isinstance(other, Scalar) else Scalar(other)\n",
    "        node = Scalar(self.data + other.data, (self, other), 'add')\n",
    "\n",
    "        def _backward():\n",
    "            self.grad += node.grad\n",
    "            other.grad += node.grad\n",
    "        node._backward = _backward\n",
    "\n",
    "        return node\n",
    "\n",
    "    def __mul__(self, other: \"Scalar\") -> \"Scalar\":\n",
    "        node = Scalar(self.data * other.data, (self, other), 'mul')\n",
    "        def _backward():\n",
    "            self.grad += other.data * node.grad\n",
    "            other.grad += self.data * node.grad\n",
    "        node._backward = _backward\n",
    "        \n",
    "        return node\n",
    "    \n",
    "\n",
    "    def relu(self) -> \"Scalar\":\n",
    "        relu = lambda x: x if x > 0.0 else 0.0\n",
    "        node = Scalar(relu(self.data), (self,), 'relu')\n",
    "        def _backward():\n",
    "            drelu = lambda x: 1.0 if x > 0.0 else 0.0\n",
    "            self.grad += drelu(self.data) * node.grad\n",
    "        node._backward = _backward\n",
    "        \n",
    "        return node\n",
    "    \n",
    "    def backward(self):\n",
    "        topo = []\n",
    "        visited = set()\n",
    "        stack = Stack()\n",
    "        stack.put(self)\n",
    "        temp_mark = set()\n",
    "        while not stack.empty():\n",
    "            node = stack.get()\n",
    "\n",
    "            if node in visited:\n",
    "                continue\n",
    "\n",
    "            if node in temp_mark:\n",
    "                visited.add(node)\n",
    "                topo.append(node)\n",
    "            else:\n",
    "                temp_mark.add(node)\n",
    "                stack.put(node)\n",
    "                for child in node._prev:\n",
    "                    if child not in visited:\n",
    "                        stack.put(child)\n",
    "        self.grad = 1.0\n",
    "        \n",
    "        for node in reversed(topo):\n",
    "            node._backward()\n",
    "                        \n",
    "        "
   ]
  },
  {
   "cell_type": "code",
   "execution_count": 438,
   "id": "8e3d4d36",
   "metadata": {},
   "outputs": [
    {
     "name": "stdout",
     "output_type": "stream",
     "text": [
      "Scalar(data=2, grad=0.0) Scalar(data=-3, grad=0.0) Scalar(data=10, grad=0.0) Scalar(data=-28, grad=0.0) Scalar(data=0.0, grad=1.0)\n"
     ]
    }
   ],
   "source": [
    "a = Scalar(2)\n",
    "b = Scalar(-3)\n",
    "c = Scalar(10)\n",
    "d = a + b * c\n",
    "e = d.relu()\n",
    "e.backward()\n",
    "print(a, b, c, d, e)"
   ]
  },
  {
   "cell_type": "code",
   "execution_count": 439,
   "id": "f46796fc",
   "metadata": {},
   "outputs": [
    {
     "name": "stdout",
     "output_type": "stream",
     "text": [
      "Scalar(data=2, grad=1.0) Scalar(data=3, grad=10.0) Scalar(data=10, grad=3.0) Scalar(data=32, grad=1.0) Scalar(data=32, grad=1.0)\n"
     ]
    }
   ],
   "source": [
    "a = Scalar(2)\n",
    "b = Scalar(3)\n",
    "c = Scalar(10)\n",
    "d = a + b * c\n",
    "e = d.relu()\n",
    "e.backward()\n",
    "print(a, b, c, d, e)"
   ]
  },
  {
   "cell_type": "code",
   "execution_count": 440,
   "id": "a725d1ee",
   "metadata": {},
   "outputs": [
    {
     "name": "stdout",
     "output_type": "stream",
     "text": [
      "Scalar(data=2, grad=48.0) Scalar(data=3, grad=28.0) Scalar(data=6, grad=14.0) Scalar(data=8, grad=6.0) Scalar(data=48, grad=1.0)\n"
     ]
    }
   ],
   "source": [
    "a = Scalar(2)\n",
    "b = Scalar(3)\n",
    "c = a * b\n",
    "d = a + c \n",
    "e = c * d \n",
    "e.backward()\n",
    "print(a, b, c, d, e)"
   ]
  },
  {
   "cell_type": "markdown",
   "id": "e2ff342c",
   "metadata": {},
   "source": [
    "# Задание 3"
   ]
  },
  {
   "cell_type": "code",
   "execution_count": 441,
   "id": "ab200d7d",
   "metadata": {},
   "outputs": [],
   "source": [
    "class AdamW(Optimizer):\n",
    "    def __init__(self, params, lr=1e-3, betas=(0.9, 0.999), eps=1e-8, weight_decay=1e-2):\n",
    "        defaults = dict(lr=lr, betas=betas, eps=eps, weight_decay=weight_decay)\n",
    "        super(AdamW, self).__init__(params, defaults)\n",
    "\n",
    "    @torch.no_grad()\n",
    "    def step(self):\n",
    "        for group in self.param_groups:\n",
    "            for p in group['params']:\n",
    "                if p.grad is None:\n",
    "                    continue\n",
    "\n",
    "                grad = p.grad.data\n",
    "                state = self.state[p]\n",
    "\n",
    "                if 'step' not in state:\n",
    "                    state['step'] = 0\n",
    "                    state['exp_avg'] = torch.zeros_like(p.data)\n",
    "                    state['exp_avg_sq'] = torch.zeros_like(p.data)\n",
    "\n",
    "                exp_avg, exp_avg_sq = state['exp_avg'], state['exp_avg_sq']\n",
    "                beta1, beta2 = group['betas']\n",
    "\n",
    "                state['step'] += 1\n",
    "                p.data.mul_(1 - group['lr'] * group['weight_decay'])\n",
    "                exp_avg.mul_(beta1).add_(grad, alpha=1 - beta1)\n",
    "                exp_avg_sq.mul_(beta2).addcmul_(grad, grad, value=1 - beta2)\n",
    "                \n",
    "                bias_correction1 = 1 - beta1 ** state['step']\n",
    "                bias_correction2 = 1 - beta2 ** state['step']\n",
    "                \n",
    "                denom = (exp_avg_sq.sqrt() / bias_correction2).add_(group['eps']).sqrt()\n",
    "                step_size = group['lr'] / bias_correction1\n",
    "                p.data.addcdiv_(exp_avg, denom, value=-step_size)"
   ]
  },
  {
   "cell_type": "code",
   "execution_count": 446,
   "id": "5e7ab772",
   "metadata": {},
   "outputs": [],
   "source": [
    "def sigmoid(x: Tensor) -> Tensor:\n",
    "    return 1 / (1 + torch.exp(-x))\n",
    "\n",
    "def train_neuron(X: Tensor,\n",
    "                 y: Tensor,\n",
    "                 weights: Tensor,\n",
    "                 bias: Tensor,\n",
    "                 lr: float = 0.1,\n",
    "                 batch_size: int = 8,\n",
    "                 epochs: int = 100) -> Tuple[Tensor, Tensor, List[float]]:\n",
    "\n",
    "    optimizer = AdamW([weights, bias], lr=lr, weight_decay=1e-2)\n",
    "    N = X.shape[0]\n",
    "    losses: List[float] = []\n",
    "\n",
    "    for epoch in range(epochs):\n",
    "        indices = torch.randperm(N)\n",
    "        epoch_loss = 0.0\n",
    "\n",
    "        for start_idx in range(0, N, batch_size):\n",
    "            idxs = indices[start_idx: start_idx + batch_size]\n",
    "            X_batch = X[idxs]\n",
    "            y_batch = y[idxs].view(-1, 1)\n",
    "            y_pred = sigmoid(X_batch @ weights.view(-1,1) + bias)\n",
    "            eps = 1e-5\n",
    "            batch_loss = -torch.sum(y_batch * torch.log(y_pred + eps) + \n",
    "                                    (1 - y_batch) * torch.log(1 - y_pred + eps))\n",
    "            batch_loss /= X_batch.shape[0]\n",
    "\n",
    "            optimizer.zero_grad()\n",
    "            batch_loss.backward()\n",
    "            optimizer.step()\n",
    "            epoch_loss += batch_loss.item() * X_batch.shape[0]\n",
    "\n",
    "        losses.append(round(epoch_loss / N, 4))\n",
    "\n",
    "    return weights, bias, losses\n"
   ]
  },
  {
   "cell_type": "code",
   "execution_count": 447,
   "id": "6c38056d",
   "metadata": {},
   "outputs": [
    {
     "name": "stderr",
     "output_type": "stream",
     "text": [
      "/tmp/ipykernel_58415/1468197309.py:3: UserWarning: To copy construct from a tensor, it is recommended to use sourceTensor.detach().clone() or sourceTensor.detach().clone().requires_grad_(True), rather than torch.tensor(sourceTensor).\n",
      "  X = torch.tensor(X, dtype=torch.float32)\n",
      "/tmp/ipykernel_58415/1468197309.py:4: UserWarning: To copy construct from a tensor, it is recommended to use sourceTensor.detach().clone() or sourceTensor.detach().clone().requires_grad_(True), rather than torch.tensor(sourceTensor).\n",
      "  y = torch.tensor(y, dtype=torch.float32).view(-1, 1)\n"
     ]
    },
    {
     "data": {
      "image/png": "[encoded data removed]",
      "text/plain": [
       "<Figure size 640x480 with 1 Axes>"
      ]
     },
     "metadata": {},
     "output_type": "display_data"
    },
    {
     "name": "stdout",
     "output_type": "stream",
     "text": [
      "weights: tensor([-0.0033,  0.0384, -0.0098, -0.0158, -0.0051, -0.0144, -0.0102, -0.0124,\n",
      "        -0.0137, -0.0114, -0.0092, -0.0077, -0.0150, -0.0198, -0.0502,  0.0070,\n",
      "         0.1374, -0.0236,  0.1029,  0.0281,  0.0358,  0.0340,  0.0117,  0.0770,\n",
      "        -0.0280, -0.0991,  0.0944, -0.1224, -0.0701, -0.0478, -0.0108,  0.0013,\n",
      "        -0.0104,  0.0017, -0.0032,  0.0018,  0.0755,  0.2417, -0.0177,  0.0836,\n",
      "         0.0105, -0.0269,  0.0035, -0.0417, -0.0132, -0.0161,  0.0771, -0.0760,\n",
      "         0.0550, -0.0415, -0.0520, -0.0134,  0.0051, -0.0673,  0.0206, -0.0084,\n",
      "         0.0646,  0.0309,  0.1102, -0.0540, -0.0243,  0.0209, -0.0145,  0.0146,\n",
      "         0.0600, -0.0635,  0.0198,  0.0285, -0.0347, -0.0112, -0.0593, -0.0399,\n",
      "         0.0400, -0.0278, -0.0194,  0.0073,  0.0377, -0.0544, -0.0176,  0.0093,\n",
      "        -0.0097,  0.0418, -0.0217,  0.0316,  0.0027, -0.0251, -0.0295, -0.0085,\n",
      "        -0.0372, -0.0249], requires_grad=True)\n",
      "bias: tensor([0.0165], requires_grad=True)\n"
     ]
    }
   ],
   "source": [
    "weights = np.zeros((X.shape[1],))\n",
    "bias = 0.0\n",
    "X = torch.tensor(X, dtype=torch.float32)\n",
    "y = torch.tensor(y, dtype=torch.float32).view(-1, 1)\n",
    "weights = torch.tensor(weights, dtype=torch.float32, requires_grad=True)\n",
    "bias = torch.tensor([bias], dtype=torch.float32, requires_grad=True)\n",
    "weights, bias, losses = train_neuron(\n",
    "    X, y, weights, bias,\n",
    "    lr=1e-3,\n",
    "    batch_size=8,\n",
    "    epochs=100\n",
    ")\n",
    "\n",
    "plt.plot(losses)\n",
    "plt.xlabel('epoch')\n",
    "plt.ylabel('loss')\n",
    "plt.grid(True)\n",
    "plt.show()\n",
    "\n",
    "print(f\"weights: {weights}\\nbias: {bias}\")\n"
   ]
  }
 ],
 "metadata": {
  "kernelspec": {
   "display_name": "torch",
   "language": "python",
   "name": "python3"
  },
  "language_info": {
   "codemirror_mode": {
    "name": "ipython",
    "version": 3
   },
   "file_extension": ".py",
   "mimetype": "text/x-python",
   "name": "python",
   "nbconvert_exporter": "python",
   "pygments_lexer": "ipython3",
   "version": "3.11.13"
  }
 },
 "nbformat": 4,
 "nbformat_minor": 5
}
